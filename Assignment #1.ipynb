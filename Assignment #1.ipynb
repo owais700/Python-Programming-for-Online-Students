{
 "cells": [
  {
   "cell_type": "code",
   "execution_count": 1,
   "metadata": {},
   "outputs": [
    {
     "name": "stdout",
     "output_type": "stream",
     "text": [
      "Twinkle twinkle little star, How I wonder what you are Üp above the World so high, Like a Diamond in the sky. Twinkle twinkle little star, How I wonder what you are\n"
     ]
    }
   ],
   "source": [
    "line1 = \"Twinkle twinkle little star, How I wonder what you are\"\n",
    "line2 = \"Üp above the World so high, Like a Diamond in the sky.\"\n",
    "print(line1,line2,line1)\n"
   ]
  },
  {
   "cell_type": "code",
   "execution_count": 2,
   "metadata": {},
   "outputs": [
    {
     "name": "stdout",
     "output_type": "stream",
     "text": [
      "sys.version_info(major=3, minor=7, micro=4, releaselevel='final', serial=0)\n"
     ]
    }
   ],
   "source": [
    "import sys\n",
    "print(sys.version_info)\n"
   ]
  },
  {
   "cell_type": "code",
   "execution_count": 3,
   "metadata": {},
   "outputs": [
    {
     "name": "stdout",
     "output_type": "stream",
     "text": [
      "Date and Time now is =  2019-11-07 20:16:59.834410\n"
     ]
    }
   ],
   "source": [
    "from datetime import datetime\n",
    "date_time = datetime.now()\n",
    "print(\"Date and Time now is = \",date_time) \n"
   ]
  },
  {
   "cell_type": "code",
   "execution_count": 5,
   "metadata": {},
   "outputs": [
    {
     "name": "stdout",
     "output_type": "stream",
     "text": [
      "Ënter the radius of the circle5\n",
      "Area of the circle is  31.400000000000002\n"
     ]
    }
   ],
   "source": [
    "radius = int(input(\"Ënter the radius of the circle\"))\n",
    "area = 2 * 3.14 * radius\n",
    "print(\"Area of the circle is \", area)\n"
   ]
  },
  {
   "cell_type": "code",
   "execution_count": 6,
   "metadata": {},
   "outputs": [
    {
     "name": "stdout",
     "output_type": "stream",
     "text": [
      "Please enter your first nameMohammad\n",
      "Please enter your last nameOwais\n",
      "Owais   Mohammad\n"
     ]
    }
   ],
   "source": [
    "first_name = input(\"Please enter your first name\")\n",
    "last_name = input(\"Please enter your last name\")\n",
    "print(last_name,\" \",first_name)\n"
   ]
  },
  {
   "cell_type": "code",
   "execution_count": 7,
   "metadata": {},
   "outputs": [
    {
     "name": "stdout",
     "output_type": "stream",
     "text": [
      "Enter 1st value5\n",
      "Enter 2nd value4\n",
      "The Sum is 9\n"
     ]
    }
   ],
   "source": [
    "a = int(input(\"Enter 1st value\"))\n",
    "b = int(input(\"Enter 2nd value\"))\n",
    "c = a + b\n",
    "print(\"The Sum is\",c)\n"
   ]
  },
  {
   "cell_type": "code",
   "execution_count": null,
   "metadata": {},
   "outputs": [],
   "source": []
  }
 ],
 "metadata": {
  "kernelspec": {
   "display_name": "Python 3",
   "language": "python",
   "name": "python3"
  },
  "language_info": {
   "codemirror_mode": {
    "name": "ipython",
    "version": 3
   },
   "file_extension": ".py",
   "mimetype": "text/x-python",
   "name": "python",
   "nbconvert_exporter": "python",
   "pygments_lexer": "ipython3",
   "version": "3.7.4"
  }
 },
 "nbformat": 4,
 "nbformat_minor": 2
}
